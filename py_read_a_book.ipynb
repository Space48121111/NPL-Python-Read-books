{
 "cells": [
  {
   "cell_type": "code",
   "execution_count": 8,
   "id": "ca78ebe6",
   "metadata": {},
   "outputs": [
    {
     "data": {
      "text/plain": [
       "['German', 'English', 'Portuguese', 'French']"
      ]
     },
     "execution_count": 8,
     "metadata": {},
     "output_type": "execute_result"
    }
   ],
   "source": [
    "import os\n",
    "import pandas as pd\n",
    "\n",
    "book_loc = './Books'\n",
    "#. current directory\n",
    "os.listdir(book_loc)\n",
    "#delete '.DS_Store' in atom"
   ]
  },
  {
   "cell_type": "code",
   "execution_count": 9,
   "id": "51fc48e3",
   "metadata": {},
   "outputs": [
    {
     "name": "stdout",
     "output_type": "stream",
     "text": [
      "Empty DataFrame\n",
      "Columns: [language, author, title, u_num, value]\n",
      "Index: []\n"
     ]
    }
   ],
   "source": [
    "stats = pd.DataFrame(columns = ('language', 'author', 'title', 'u_num', 'value'))\n",
    "\n",
    "print(stats)"
   ]
  },
  {
   "cell_type": "code",
   "execution_count": 17,
   "id": "8bffb1a0",
   "metadata": {},
   "outputs": [],
   "source": [
    "from collections import Counter\n",
    "\n",
    "book = 'This is, a test sentence, to keep things simple and managable, we are making the test short.'\n",
    "book = book.lower()\n",
    "#print(book)\n",
    "\n",
    "def read_a_book(book_loc_path):\n",
    "    with open(book_loc_path, 'r', encoding='utf-8') as file:\n",
    "        book = file.read()\n",
    "        book = book.replace('\\n', '').replace('\\t', '')\n",
    "    return book\n",
    "\n",
    "book = read_a_book('./Books/English/shakespeare/Hamlet.txt')\n",
    "\n",
    "\n",
    "def count_words(book):\n",
    "    skips = [',', '.']\n",
    "    for punctuation in skips:\n",
    "        book = book.replace(punctuation, '')\n",
    "        #print(book)\n",
    "    count = Counter(book.split(' '))\n",
    "    #print(count)\n",
    "    \n",
    "    return count\n",
    "    \n",
    "def unique_words(count):\n",
    "    u_num = len(count)\n",
    "    val = count.values()\n",
    "    #print(u_num, sum(val))\n",
    "\n",
    "    return(u_num, sum(val))\n",
    "   \n",
    "#unique_words(count)\n",
    "#count_words(book)\n",
    "\n"
   ]
  },
  {
   "cell_type": "code",
   "execution_count": 18,
   "id": "fa6524e3",
   "metadata": {},
   "outputs": [],
   "source": [
    "num = 1 \n",
    "for language in os.listdir(book_loc):\n",
    "    for author in os.listdir(book_loc + '/'+language):\n",
    "        for title in os.listdir(book_loc + '/' + language + '/' + author):\n",
    "            file = book_loc + '/' + language + '/' + author + '/' + title\n",
    "            #print(file)\n",
    "            #print(language)\n",
    "            book = read_a_book(file)\n",
    "            (u_num, value) = unique_words(count_words(book))\n",
    "            \n",
    "            stats.loc[num] = (language, author.capitalize(), title.replace('.txt', ''), u_num, value)       \n",
    "            #print(stats)\n",
    "            \n",
    "            num += 1\n"
   ]
  },
  {
   "cell_type": "code",
   "execution_count": 103,
   "id": "e092a433",
   "metadata": {},
   "outputs": [
    {
     "data": {
      "text/html": [
       "<div>\n",
       "<style scoped>\n",
       "    .dataframe tbody tr th:only-of-type {\n",
       "        vertical-align: middle;\n",
       "    }\n",
       "\n",
       "    .dataframe tbody tr th {\n",
       "        vertical-align: top;\n",
       "    }\n",
       "\n",
       "    .dataframe thead th {\n",
       "        text-align: right;\n",
       "    }\n",
       "</style>\n",
       "<table border=\"1\" class=\"dataframe\">\n",
       "  <thead>\n",
       "    <tr style=\"text-align: right;\">\n",
       "      <th></th>\n",
       "      <th>language</th>\n",
       "      <th>author</th>\n",
       "      <th>title</th>\n",
       "      <th>u_num</th>\n",
       "      <th>value</th>\n",
       "    </tr>\n",
       "  </thead>\n",
       "  <tbody>\n",
       "    <tr>\n",
       "      <th>35</th>\n",
       "      <td>English</td>\n",
       "      <td>Shakespeare</td>\n",
       "      <td>Othello</td>\n",
       "      <td>6314</td>\n",
       "      <td>26590</td>\n",
       "    </tr>\n",
       "    <tr>\n",
       "      <th>36</th>\n",
       "      <td>English</td>\n",
       "      <td>Shakespeare</td>\n",
       "      <td>Richard III</td>\n",
       "      <td>6608</td>\n",
       "      <td>48315</td>\n",
       "    </tr>\n",
       "    <tr>\n",
       "      <th>37</th>\n",
       "      <td>English</td>\n",
       "      <td>Shakespeare</td>\n",
       "      <td>The Merchant of Venice</td>\n",
       "      <td>5199</td>\n",
       "      <td>20949</td>\n",
       "    </tr>\n",
       "    <tr>\n",
       "      <th>38</th>\n",
       "      <td>English</td>\n",
       "      <td>Shakespeare</td>\n",
       "      <td>A Midsummer Night's Dream</td>\n",
       "      <td>4578</td>\n",
       "      <td>16103</td>\n",
       "    </tr>\n",
       "    <tr>\n",
       "      <th>39</th>\n",
       "      <td>English</td>\n",
       "      <td>Shakespeare</td>\n",
       "      <td>Macbeth</td>\n",
       "      <td>5137</td>\n",
       "      <td>16874</td>\n",
       "    </tr>\n",
       "    <tr>\n",
       "      <th>40</th>\n",
       "      <td>English</td>\n",
       "      <td>Shakespeare</td>\n",
       "      <td>Hamlet</td>\n",
       "      <td>7300</td>\n",
       "      <td>28551</td>\n",
       "    </tr>\n",
       "    <tr>\n",
       "      <th>41</th>\n",
       "      <td>English</td>\n",
       "      <td>Shakespeare</td>\n",
       "      <td>Romeo and Juliet</td>\n",
       "      <td>6071</td>\n",
       "      <td>40776</td>\n",
       "    </tr>\n",
       "  </tbody>\n",
       "</table>\n",
       "</div>"
      ],
      "text/plain": [
       "   language       author                      title u_num  value\n",
       "35  English  Shakespeare                    Othello  6314  26590\n",
       "36  English  Shakespeare                Richard III  6608  48315\n",
       "37  English  Shakespeare     The Merchant of Venice  5199  20949\n",
       "38  English  Shakespeare  A Midsummer Night's Dream  4578  16103\n",
       "39  English  Shakespeare                    Macbeth  5137  16874\n",
       "40  English  Shakespeare                     Hamlet  7300  28551\n",
       "41  English  Shakespeare           Romeo and Juliet  6071  40776"
      ]
     },
     "execution_count": 103,
     "metadata": {},
     "output_type": "execute_result"
    },
    {
     "data": {
      "image/png": "[encoded data removed]",
      "text/plain": [
       "<Figure size 432x288 with 1 Axes>"
      ]
     },
     "metadata": {
      "needs_background": "light"
     },
     "output_type": "display_data"
    }
   ],
   "source": [
    "import matplotlib.pyplot as plt\n",
    "\n",
    "plt.plot(stats.u_num, stats.value, 'bo-')\n",
    "plt.loglog(stats.u_num, stats.value, 'ro')\n",
    "\n",
    "stats[stats.language == 'English']"
   ]
  },
  {
   "cell_type": "code",
   "execution_count": 108,
   "id": "2b37d1ea",
   "metadata": {},
   "outputs": [
    {
     "data": {
      "image/png": "[encoded data removed]",
      "text/plain": [
       "<Figure size 720x720 with 1 Axes>"
      ]
     },
     "metadata": {
      "needs_background": "light"
     },
     "output_type": "display_data"
    }
   ],
   "source": [
    "plt.figure(figsize = (10, 10))\n",
    "\n",
    "enset = stats[stats.language == 'English']\n",
    "plt.loglog(enset.u_num, enset.value, 'o', label = 'En', color = 'violet')\n",
    "\n",
    "enset = stats[stats.language == 'German']\n",
    "plt.loglog(enset.u_num, enset.value, 'o', label = 'Ge', color = 'beige')\n",
    "\n",
    "enset = stats[stats.language == 'French']\n",
    "plt.loglog(enset.u_num, enset.value, 'o', label = 'Fr', color = 'orange')\n",
    "\n",
    "enset = stats[stats.language == 'Portuguese']\n",
    "plt.loglog(enset.u_num, enset.value, 'o', label = 'Po', color = 'silver')\n",
    "\n",
    "plt.legend()\n",
    "plt.xlabel('Value')\n",
    "plt.ylabel('U_num')\n",
    "plt.savefig('book.pdf')\n",
    "plt.show()"
   ]
  },
  {
   "cell_type": "code",
   "execution_count": null,
   "id": "cafc705a",
   "metadata": {},
   "outputs": [],
   "source": []
  }
 ],
 "metadata": {
  "kernelspec": {
   "display_name": "Python 3 (ipykernel)",
   "language": "python",
   "name": "python3"
  },
  "language_info": {
   "codemirror_mode": {
    "name": "ipython",
    "version": 3
   },
   "file_extension": ".py",
   "mimetype": "text/x-python",
   "name": "python",
   "nbconvert_exporter": "python",
   "pygments_lexer": "ipython3",
   "version": "3.10.0"
  }
 },
 "nbformat": 4,
 "nbformat_minor": 5
}
